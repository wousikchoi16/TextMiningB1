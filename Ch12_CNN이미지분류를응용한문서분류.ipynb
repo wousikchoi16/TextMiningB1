{
 "cells": [
  {
   "cell_type": "markdown",
   "metadata": {},
   "source": [
    "# Chapter 12. CNN - 이미지 분류를 응용한 문서 분류\n",
    "\n"
   ]
  },
  {
   "cell_type": "markdown",
   "metadata": {},
   "source": [
    "## 2. CNN을 이용한 문서 분류\n"
   ]
  },
  {
   "cell_type": "markdown",
   "metadata": {},
   "source": [
    "### 2.1 NLTK 영화 리뷰 데이터 변환\n",
    "\n"
   ]
  },
  {
   "cell_type": "code",
   "execution_count": 1,
   "metadata": {},
   "outputs": [
    {
     "name": "stdout",
     "output_type": "stream",
     "text": [
      "2.7.0\n"
     ]
    }
   ],
   "source": [
    "import keras \n",
    "print(keras.__version__)"
   ]
  },
  {
   "cell_type": "code",
   "execution_count": 2,
   "metadata": {},
   "outputs": [],
   "source": [
    "# from tensorflow.compat.v1 import ConfigProto\n",
    "# from tensorflow.compat.v1 import InteractiveSession\n",
    "\n",
    "# config = ConfigProto()\n",
    "# config.gpu_options.allow_growth = True\n",
    "# session = InteractiveSession(config=config)"
   ]
  },
  {
   "cell_type": "code",
   "execution_count": 3,
   "metadata": {},
   "outputs": [],
   "source": [
    "# import tensorflow as tf\n",
    "# def set_tensorflow_config(per_process_gpu_memory_fraction=0.8):\n",
    "#     config = tf.compat.v1.ConfigProto()\n",
    "#     # config = tf.ConfigProto()\n",
    "#     config.gpu_options.per_process_gpu_memory_fraction = per_process_gpu_memory_fraction\n",
    "#     config.gpu_options.allow_growth=True\n",
    "#     # sess = tf.Session(config=config)\n",
    "#     sess = tf.compat.v1.Session(config=config)\n",
    "    \n",
    "#     print(\"== TensorFlow Config options set ==\")\n",
    "#     print(\"\\nThis process will now utilize {} GPU Memeory Fraction\".format(per_process_gpu_memory_fraction))\n",
    "\n",
    "# set_tensorflow_config()"
   ]
  },
  {
   "cell_type": "code",
   "execution_count": 4,
   "metadata": {},
   "outputs": [],
   "source": [
    "# !pip install keras==2.2.4\n",
    "# !pip install keras==2.7.0\n",
    "# !pip install keras==2.7.0"
   ]
  },
  {
   "cell_type": "code",
   "execution_count": 5,
   "metadata": {},
   "outputs": [
    {
     "name": "stdout",
     "output_type": "stream",
     "text": [
      "2.7.0\n"
     ]
    }
   ],
   "source": [
    "import keras \n",
    "print(keras.__version__)"
   ]
  },
  {
   "cell_type": "code",
   "execution_count": 6,
   "metadata": {},
   "outputs": [],
   "source": [
    "import tensorflow as tf\n",
    "# physical_devices = tf.config.list_physical_devices('GPU')\n",
    "# tf.config.experimental.set_memory_growth(physical_devices[0], enable=False)"
   ]
  },
  {
   "cell_type": "code",
   "execution_count": 7,
   "metadata": {
    "scrolled": true
   },
   "outputs": [],
   "source": [
    "from nltk.corpus import movie_reviews\n",
    "import numpy as np\n",
    "import tensorflow as tf\n",
    "from tensorflow.keras.preprocessing.text import Tokenizer\n",
    "from tensorflow.keras.preprocessing.sequence import pad_sequences\n",
    "from sklearn.model_selection import train_test_split \n",
    "\n",
    "#movie review data에서 file id를 가져옴\n",
    "fileids = movie_reviews.fileids() \n",
    "#file id를 이용해 raw text file을 가져옴\n",
    "reviews = [movie_reviews.raw(fileid) for fileid in fileids] \n",
    "categories = [movie_reviews.categories(fileid)[0] for fileid in fileids] \n",
    "\n",
    "np.random.seed(7)\n",
    "tf.random.set_seed(7)\n",
    "\n",
    "max_words = 10000 #사용할 단어의 수\n",
    "maxlen = 500 #문서의 단어 수를 제한\n",
    "\n",
    "# 빈도가 높은 10000개의 단어를 선택하도록 객체 생성\n",
    "tokenizer = Tokenizer(num_words=max_words, oov_token='UNK') \n",
    "tokenizer.fit_on_texts(reviews) #단어 인덱스 구축\n",
    "\n",
    "X = tokenizer.texts_to_sequences(reviews) #만들어진 단어 인덱스를 이용해 변환\n",
    "X = pad_sequences(X, maxlen=maxlen, truncating='pre') \n",
    "\n",
    "# label을 0, 1의 값으로 변환\n",
    "label_dict = {'pos':0, 'neg':1}\n",
    "y = np.array([label_dict[c] for c in categories])\n",
    "X_train, X_test, y_train, y_test = train_test_split(X, y, test_size=0.2, random_state=10)"
   ]
  },
  {
   "cell_type": "code",
   "execution_count": 8,
   "metadata": {},
   "outputs": [
    {
     "name": "stdout",
     "output_type": "stream",
     "text": [
      "(1600, 500)\n",
      "(400, 500)\n",
      "(1600,)\n",
      "(400,)\n"
     ]
    }
   ],
   "source": [
    "print(X_train.shape)\n",
    "print(X_test.shape)\n",
    "print(y_train.shape)\n",
    "print(y_test.shape)"
   ]
  },
  {
   "cell_type": "markdown",
   "metadata": {},
   "source": [
    "### 2.2 CNN 모형 생성 및 학습"
   ]
  },
  {
   "cell_type": "code",
   "execution_count": 9,
   "metadata": {},
   "outputs": [
    {
     "name": "stdout",
     "output_type": "stream",
     "text": [
      "Model: \"sequential\"\n",
      "_________________________________________________________________\n",
      " Layer (type)                Output Shape              Param #   \n",
      "=================================================================\n",
      " embedding (Embedding)       (None, 500, 64)           640000    \n",
      "                                                                 \n",
      " conv1d (Conv1D)             (None, 496, 128)          41088     \n",
      "                                                                 \n",
      " max_pooling1d (MaxPooling1D  (None, 248, 128)         0         \n",
      " )                                                               \n",
      "                                                                 \n",
      " conv1d_1 (Conv1D)           (None, 244, 256)          164096    \n",
      "                                                                 \n",
      " max_pooling1d_1 (MaxPooling  (None, 122, 256)         0         \n",
      " 1D)                                                             \n",
      "                                                                 \n",
      " flatten (Flatten)           (None, 31232)             0         \n",
      "                                                                 \n",
      " dense (Dense)               (None, 64)                1998912   \n",
      "                                                                 \n",
      " dense_1 (Dense)             (None, 1)                 65        \n",
      "                                                                 \n",
      "=================================================================\n",
      "Total params: 2,844,161\n",
      "Trainable params: 2,844,161\n",
      "Non-trainable params: 0\n",
      "_________________________________________________________________\n"
     ]
    }
   ],
   "source": [
    "from tensorflow.keras.models import Sequential\n",
    "from tensorflow.keras.layers import Dense, Conv1D, MaxPooling1D\n",
    "from tensorflow.keras.layers import Embedding, Dropout, Flatten\n",
    "from tensorflow.keras.optimizers import Adam\n",
    "\n",
    "model = Sequential([\n",
    "    #word embedding layer 생성\n",
    "    Embedding(max_words, 64, input_length=maxlen), # (500,64)\n",
    "    Conv1D(128, # 채널의 수\n",
    "            5, # 1D 필터 크기\n",
    "            padding='valid', \n",
    "            activation='relu',\n",
    "            strides=1), \n",
    "    MaxPooling1D(pool_size=2),\n",
    "    Conv1D(256, # 채널의 수\n",
    "            5, # 1D 필터 크기\n",
    "            padding='valid', \n",
    "            activation='relu',\n",
    "            strides=1), \n",
    "    MaxPooling1D(pool_size=2),\n",
    "    Flatten(),\n",
    "    Dense(64, activation='relu'),\n",
    "    Dense(1, activation='sigmoid') #binary logistic regression을 수행\n",
    "])\n",
    "model.summary()"
   ]
  },
  {
   "cell_type": "code",
   "execution_count": 10,
   "metadata": {},
   "outputs": [
    {
     "data": {
      "text/plain": [
       "(1600, 500)"
      ]
     },
     "execution_count": 10,
     "metadata": {},
     "output_type": "execute_result"
    }
   ],
   "source": [
    "X_train.shape"
   ]
  },
  {
   "cell_type": "code",
   "execution_count": 11,
   "metadata": {},
   "outputs": [
    {
     "data": {
      "text/plain": [
       "(1600,)"
      ]
     },
     "execution_count": 11,
     "metadata": {},
     "output_type": "execute_result"
    }
   ],
   "source": [
    "y_train.shape"
   ]
  },
  {
   "cell_type": "code",
   "execution_count": 12,
   "metadata": {},
   "outputs": [
    {
     "name": "stdout",
     "output_type": "stream",
     "text": [
      "Epoch 1/20\n",
      "5/5 [==============================] - 5s 825ms/step - loss: 0.7183 - acc: 0.5289 - val_loss: 0.6940 - val_acc: 0.4969\n",
      "Epoch 2/20\n",
      "5/5 [==============================] - 3s 690ms/step - loss: 0.6933 - acc: 0.4969 - val_loss: 0.6931 - val_acc: 0.4969\n",
      "Epoch 3/20\n",
      "5/5 [==============================] - 3s 653ms/step - loss: 0.6926 - acc: 0.4969 - val_loss: 0.6928 - val_acc: 0.4969\n",
      "Epoch 4/20\n",
      "5/5 [==============================] - 3s 642ms/step - loss: 0.6917 - acc: 0.5164 - val_loss: 0.6924 - val_acc: 0.4969\n",
      "Epoch 5/20\n",
      "5/5 [==============================] - 3s 636ms/step - loss: 0.6894 - acc: 0.5406 - val_loss: 0.6920 - val_acc: 0.4969\n",
      "Epoch 6/20\n",
      "5/5 [==============================] - 3s 645ms/step - loss: 0.6839 - acc: 0.6414 - val_loss: 0.6906 - val_acc: 0.5562\n",
      "Epoch 7/20\n",
      "5/5 [==============================] - 3s 693ms/step - loss: 0.6700 - acc: 0.8547 - val_loss: 0.6855 - val_acc: 0.5594\n",
      "Epoch 8/20\n",
      "5/5 [==============================] - 4s 747ms/step - loss: 0.6431 - acc: 0.7531 - val_loss: 0.6809 - val_acc: 0.5031\n",
      "Epoch 9/20\n",
      "5/5 [==============================] - 3s 676ms/step - loss: 0.5792 - acc: 0.8172 - val_loss: 0.6681 - val_acc: 0.5312\n",
      "Epoch 10/20\n",
      "5/5 [==============================] - 3s 683ms/step - loss: 0.4588 - acc: 0.8680 - val_loss: 0.5668 - val_acc: 0.7406\n",
      "Epoch 11/20\n",
      "5/5 [==============================] - 3s 657ms/step - loss: 0.2551 - acc: 0.9602 - val_loss: 0.4957 - val_acc: 0.7344\n",
      "Epoch 12/20\n",
      "5/5 [==============================] - 3s 696ms/step - loss: 0.1035 - acc: 0.9828 - val_loss: 0.5005 - val_acc: 0.7594\n",
      "Epoch 13/20\n",
      "5/5 [==============================] - 3s 677ms/step - loss: 0.0233 - acc: 0.9977 - val_loss: 0.5204 - val_acc: 0.7969\n",
      "Epoch 14/20\n",
      "5/5 [==============================] - 3s 636ms/step - loss: 0.0054 - acc: 1.0000 - val_loss: 0.6032 - val_acc: 0.7969\n",
      "Epoch 15/20\n",
      "5/5 [==============================] - 3s 676ms/step - loss: 0.0015 - acc: 1.0000 - val_loss: 0.7470 - val_acc: 0.8031\n",
      "Epoch 16/20\n",
      "5/5 [==============================] - 3s 660ms/step - loss: 5.4951e-04 - acc: 1.0000 - val_loss: 0.6820 - val_acc: 0.8031\n",
      "Epoch 17/20\n",
      "5/5 [==============================] - 3s 635ms/step - loss: 1.9696e-04 - acc: 1.0000 - val_loss: 0.6890 - val_acc: 0.8188\n",
      "Epoch 18/20\n",
      "5/5 [==============================] - 3s 682ms/step - loss: 1.5369e-04 - acc: 1.0000 - val_loss: 0.7156 - val_acc: 0.8125\n",
      "Epoch 19/20\n",
      "5/5 [==============================] - 4s 753ms/step - loss: 1.3214e-04 - acc: 1.0000 - val_loss: 0.7283 - val_acc: 0.8125\n",
      "Epoch 20/20\n",
      "5/5 [==============================] - 3s 653ms/step - loss: 1.0586e-04 - acc: 1.0000 - val_loss: 0.7305 - val_acc: 0.8188\n"
     ]
    }
   ],
   "source": [
    "adam = Adam(learning_rate=1e-3)\n",
    "model.compile(optimizer=adam, loss='binary_crossentropy', metrics=['acc'])\n",
    "\n",
    "history = model.fit(X_train, y_train, \n",
    "                    epochs=20,\n",
    "                    batch_size=256,\n",
    "                    verbose=1,\n",
    "                    validation_split=0.2)"
   ]
  },
  {
   "cell_type": "code",
   "execution_count": 13,
   "metadata": {},
   "outputs": [
    {
     "data": {
      "image/png": "[encoded data removed]",
      "text/plain": [
       "<Figure size 432x288 with 1 Axes>"
      ]
     },
     "metadata": {
      "needs_background": "light"
     },
     "output_type": "display_data"
    },
    {
     "name": "stdout",
     "output_type": "stream",
     "text": [
      "13/13 [==============================] - 0s 23ms/step - loss: 0.7311 - acc: 0.8000\n",
      "#Test accuracy:0.800\n"
     ]
    }
   ],
   "source": [
    "%matplotlib inline\n",
    "import matplotlib.pyplot as plt\n",
    "\n",
    "def plot_results(history, metric):\n",
    "    plt.plot(history.history[metric], 'b', label='Training '+metric)\n",
    "    plt.plot(history.history['val_'+metric], 'r--', label='Validation '+metric)\n",
    "    plt.title('Training vs. Validation '+metric)\n",
    "    plt.xlabel('Epochs')\n",
    "    plt.ylabel(metric)\n",
    "    plt.legend()\n",
    "    plt.show()\n",
    "\n",
    "plot_results(history, 'loss')\n",
    "\n",
    "#테스트 셋으로 학습된 모형의 성능을 평가\n",
    "score = model.evaluate(X_test, y_test)\n",
    "print(f'#Test accuracy:{score[1]:.3f}')"
   ]
  },
  {
   "cell_type": "code",
   "execution_count": null,
   "metadata": {},
   "outputs": [],
   "source": []
  }
 ],
 "metadata": {
  "kernelspec": {
   "display_name": "Python 3",
   "language": "python",
   "name": "python3"
  },
  "language_info": {
   "codemirror_mode": {
    "name": "ipython",
    "version": 3
   },
   "file_extension": ".py",
   "mimetype": "text/x-python",
   "name": "python",
   "nbconvert_exporter": "python",
   "pygments_lexer": "ipython3",
   "version": "3.8.8"
  },
  "toc": {
   "base_numbering": 1,
   "nav_menu": {},
   "number_sections": true,
   "sideBar": true,
   "skip_h1_title": false,
   "title_cell": "Table of Contents",
   "title_sidebar": "Contents",
   "toc_cell": true,
   "toc_position": {},
   "toc_section_display": true,
   "toc_window_display": true
  },
  "varInspector": {
   "cols": {
    "lenName": 16,
    "lenType": 16,
    "lenVar": 40
   },
   "kernels_config": {
    "python": {
     "delete_cmd_postfix": "",
     "delete_cmd_prefix": "del ",
     "library": "var_list.py",
     "varRefreshCmd": "print(var_dic_list())"
    },
    "r": {
     "delete_cmd_postfix": ") ",
     "delete_cmd_prefix": "rm(",
     "library": "var_list.r",
     "varRefreshCmd": "cat(var_dic_list()) "
    }
   },
   "types_to_exclude": [
    "module",
    "function",
    "builtin_function_or_method",
    "instance",
    "_Feature"
   ],
   "window_display": false
  }
 },
 "nbformat": 4,
 "nbformat_minor": 2
}
